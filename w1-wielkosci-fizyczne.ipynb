{
 "cells": [
  {
   "cell_type": "markdown",
   "metadata": {},
   "source": [
    "# Plan\n",
    "1. Przedstawienie przedmiotu i prowadzącego\n",
    "2. Historia i miejsce fizyki pośród innych nauk\n",
    "3. Wielkości i jednostki fizyczne\n",
    "4. Układ jednostek SI\n",
    "5. Wielokrotności i podwielokrotności jednostek miar\n",
    "6. Podział wielkości na skalarne i wektorowe\n",
    "7. Podstawowe operacje na wektorach\n",
    "8. Podstawy rachunku różniczkowego wykorzystywanego w fizyce"
   ]
  },
  {
   "cell_type": "markdown",
   "metadata": {},
   "source": [
    "### 1. Przedstawienie przedmiotu i prowadzącego\n",
    "\n",
    "**PROWADZĄCY** <br>\n",
    "dr inż. Szymon Maćkowiak <br>\n",
    "szymon.mackowiak@put.poznan.pl <br>\n",
    "BM 521 <br>\n",
    "\n",
    "**BIBLIOGRAFIA** <br>\n",
    "\n",
    "**Literatura podstawowa:**<br>\n",
    "1. David Halliday, Robert Resnick, Jearl Walker, Podstawy fizyki, t. 1-5, PWN, Warszawa 2003,\n",
    "2. Jerzy Massalski, Fizyka dla inżynierów, t. 1-2, WNT, Warszawa 1980. \n",
    "\n",
    "**Skrypty z opisanymi przebiegami doświadczeń:** \n",
    "1. Stanisław Szuba, Ćwiczenia laboratoryjne z fizyki, Wydawnictwo Politechniki Poznańskiej, Poznań 2007,\n",
    "2. Krzysztof Łapsa, Ćwiczenia laboratoryjne z fizyki, Wydawnictwo Politechniki Poznańskiej, Poznań 2008,"
   ]
  },
  {
   "cell_type": "markdown",
   "metadata": {},
   "source": [
    "### 2. Historia i miejsce fizyki pośród innych nauk\n",
    "\n",
    "Filozofia przyrody, której językiem jest matematyka.<br>\n",
    "Jej początki sięgają zarania dziejów..."
   ]
  },
  {
   "cell_type": "markdown",
   "metadata": {},
   "source": [
    "### 3. Wielkości fizyczne\n",
    "\n",
    "W fizyce najważniejszy jest pomiar. Bez względu na oryginalność teorii fizycznej, ostateczenie musi ona zostać skonfrontowana z wynikami pomiarów. Dlatego tak ważne jest, aby poświęcić chwilę na rozważania dot. pomiarów - tego co mierzymy i jak wyrażamy to w ujęciu liczbowym.\n",
    "\n",
    "**Wielkość fizyczna** - wszystko to, co możemy zmierzyć. Przykłady: odległość, masa, temperatura, czas ale nie tylko - WSZYSTKO co da się zmierzyć.\n",
    "\n",
    "**Jednostak fizyczna** - ustalony wzorzec, do którego porówbujemy zmierzoną wielkość. Pozwala wyrazić pomiar w wartościach liczbowych. Przykłady: metr, sekunda, wat.\n",
    "\n",
    "**Układ jednostek fizycznych** - wybrana konwencja przedstawiania wyników pomiarów za pomocą ustalonego zestawu jednostek wielkości fizycznych. Jest kwestią UMOWY. W Polsce i większości krajów europejskich korzystamy z układu SI. Nie jest to jedyny układ. Przykładami innych układów jednostek mogą być np. układ jednostek imperialnych lub układ CGS.\n",
    "\n",
    "**Alfabet grecki** - w fizyce oprócz alfabetu łacińskiego, korzystamy z alfabetu greckiego. Litery obu tych alfabetów są wykorzystywane do oznaczania wielkości i jednostek fizycznych. Poniżej tabela z literami greckiego alfabetu:\n",
    "\n",
    "|lp.|wielka litera|mała litera|nazwa|\n",
    "|-|-|-|-|\n",
    "|1|A|$\\alpha$|alfa|\n",
    "|2|B|$\\beta$|beta|\n",
    "|3|$\\Gamma$|$\\gamma$|gamma|\n",
    "|4|$\\Delta$|$\\delta$|delta|\n",
    "|5|E|$\\epsilon$, $\\varepsilon$|epsilon|\n",
    "|6|Z|$\\zeta$|dzeta|\n",
    "|7|H|$\\eta$|eta|\n",
    "|8|$\\Theta$|$\\theta$, $\\vartheta$|teta|\n",
    "|9|I|$\\iota$|jota|\n",
    "|10|K|$\\kappa$|kappa|\n",
    "|11|$\\Lambda$|$\\lambda$|lambda| \n",
    "|12|M|$\\mu$|mi|\n",
    "|13|N|$\\nu$|ni|\n",
    "|14|$\\Xi$|$\\xi$|ksi|\n",
    "|15|$O$| $o$|omikron|\n",
    "|16|$\\Pi$|$\\pi$|pi| \n",
    "|17|$P$|$\\rho$, $\\varrho$|rho| \n",
    "|18|$\\Sigma$|$\\sigma$|sigma|\n",
    "|19|$T$|$\\tau$|tau|\n",
    "|20|$\\Upsilon$|$\\upsilon$|ipsilon|\n",
    "|21|$\\Phi$|$\\phi$, $\\varphi$|phi|\n",
    "|22|$X$|$\\chi$|chi|\n",
    "|23|$\\Psi$|$\\psi$|psi|\n",
    "|24|$\\Omega$|$\\omega$|omega|"
   ]
  },
  {
   "cell_type": "markdown",
   "metadata": {},
   "source": [
    "### 4. Układ jednostek SI\n",
    "\n",
    "Układ jednostek SI składa się z:\n",
    "- jednostek podstawowych (7 jednostek + 2 uzupełniające)\n",
    "- jednostek złożonych (składają się z jednostek podstawowych)\n",
    "\n",
    "#### Jednoski podstawowe układu SI\n",
    "\n",
    "|lp.|nazwa jednostki fizycznej|skrót|wielkość której dotyczy|\n",
    "|-|-|-|-|\n",
    "|1|metr|[m]|odległość|\n",
    "|2|sekunda|[s]|czas|\n",
    "|3|kilogram|[kg]|masa|\n",
    "|4|kelwin|[K]|temperatura|\n",
    "|5|amper|[A]|natężenie prądu elektrycznego|\n",
    "|6|mol|[mol]|liczność materii|\n",
    "|7|kandela|[cd]|światłość p. źr. światła|\n",
    "\n",
    "**Anegdota:** Jak wyznaczyć temperaturę zera absolutnego? Można wykonać eksperyment spełaniający przemianę izobaryczną - cylinder z ruchomym tłokiem. Wykonując kilka pomiarów zależności $V(T)$ możemy poszukać miejsca zerowego uzyskanej prostej i wyznaczyć temperaturę zera absolutnego. Zera ansolutnego nie da się osiągnąć ze względu na zasadę nieoznaczoności Heisenberga (w tym sensie zero absolutne jest podobne do prędkości światła, której też nie da się osiągnąć).\n",
    "\n",
    "**Anegdota:** Prawo Avogadro - w warunkach normalnych (0 st. $C$, 1013.25 $hPa$) jeden mol dowolnego gazu zajmuje objętość 22.4 $dm^3$\n",
    "\n",
    "**Anegdota:** Stała Avogadro - liczba cząstek zawartych w jednym molu materii. $N_A \\approx 6 \\cdot 10^{23} [1/mol]$\n",
    "\n",
    "#### Przykład 1\n",
    "Korzystając z prawa powszechnego ciążenia wyrazić stałą oddziaływania grawitacyjnego w podstawowych jednostkach układu SI.\n",
    "\n",
    "#### Przykład 2\n",
    "Korzystając z prawa Coulomba wyrazić stałą oddziaływania elektrycznego w podstawowych jednostkach układu SI. \n",
    "\n",
    "#### Jednoski uzupełniające układu SI:\n",
    "\n",
    "|lp.|nazwa jednostki|skrót|wielkość której dotyczy|\n",
    "|-|-|-|-|\n",
    "|1|radian|[rad]|kąt płaski|\n",
    "|2|steradian|[sr]|kąt bryłowy|\n",
    "\n",
    "Liczba $\\pi$ - stosunek obwodu do średnicy okręgu. \n",
    "\n",
    "Kąty (płaskie) mierzymy w stopniach lub (w fizyce częściej) - w radianach. \n",
    "\n",
    "**Anegdota:** Dlaczego pomiar kątów oraz czasu opiera się na systemie sześćdziesiątkowym? Już starożytni zauważyli, że liczba 60 ma wyjątkową własność - posiada najwięcej naturalnych dzielników! Liczbę 60 możemy podzielić przez 1, 2, 3, 4, 5, 6, 10, 12, 15, 20, 30, 60. DLatego system oparty na liczbie 60 jest wygodny w zakresie dzielenia okręgów (np. w przypadku pomiaru kątów lub czasu na kołowej tarczy).\n",
    "\n",
    "Miara łukowa kąta - na dowolnym kącie możemy zbudować łuk, który jest wycinkiem okręgu o promieniu $R$. Wówczas kąt można przedstawić jako: $\\alpha = \\frac{l}{R}.$ Spoglądając na jednostkę widzimy, że mielibyśmy tu $[m/m]$, a więc wielkość bezwymiarową! Aby nie było wątpliwości, że mówimy o kącie, do wyników dodajemy jednostkę [rad]. \n",
    "\n",
    "#### Przykład 3\n",
    "Korzystając z miary łukowej kąta, wyrazić w radianach kąt:\n",
    "a) 90 stopni,\n",
    "b) 180 stopni,\n",
    "c) 360 stopni."
   ]
  },
  {
   "cell_type": "markdown",
   "metadata": {},
   "source": [
    "### 5. Wielokrotności i podwielokrotności jednostek miar\n",
    "Aby prezentowany wynik był bardziej czytelny, korzystamy z wielokrotności i podwielokrotności liczby 10, którym nadano szczególne nazwy.\n",
    "\n",
    "|lp.|mnożnik|nazwa|skrót|\n",
    "|-|-|-|-|\n",
    "|1|$10^{15}$|peta|P|\n",
    "|2|$10^{12}$|tera|T|\n",
    "|3|$10^{9}$|giga|G|\n",
    "|4|$10^{6}$|mega|M|\n",
    "|5|$10^{3}$|kilo|k|\n",
    "|6|$10^{2}$|hekto|h|\n",
    "|7|$10^{1}$|deka|da|\n",
    "|8|$10^{0}$|||\n",
    "|9|$10^{-1}$|decy|d|\n",
    "|10|$10^{-2}$|centy|c|\n",
    "|11|$10^{-3}$|mili|m|\n",
    "|12|$10^{-6}$|mikro|$\\mu$|\n",
    "|13|$10^{-9}$|nano|n|\n",
    "|14|$10^{-12}$|piko|p|\n",
    "|15|$10^{-15}$|femto|f|\n",
    "|16|$10^{-18}$|atto|a|\n"
   ]
  },
  {
   "cell_type": "markdown",
   "metadata": {},
   "source": [
    "### 6. Podział wielkości na skalarne i wektorowe\n",
    "Otaczające nas wielkości możemy podzielić na dwie kategorie:\n",
    "- wielkości skalarne (do ich opisu wystarczy pojeydyncza wartość). Przykłady: masa, ciepło, temperatura\n",
    "- wielkości wektorowe (do pełnego opisu wymagają uwzględnienia orientacji w przestrzeni). Przykłady: siła, prędkość, przyspieszenie. Wielkości wektorowe w przestrzeni 3D wymagają do pełnego opisu trzech liczb (składowe wektora). "
   ]
  },
  {
   "cell_type": "markdown",
   "metadata": {},
   "source": [
    "### 7. Podstawowe operacje na wektorach\n",
    "Wektory możemy przedstawiać w postaci kolejnych składowych w nawiasie kwadratowym lub w postaci algebraicznej sumy składowych wraz z wersorami osi układu współrzędnych. Np.\n",
    "$\\vec{a} = [a_x, a_y, a_z] = a_x \\hat{i} + a_y\\hat{j} + a_z\\hat{k}$\n",
    "\n",
    "Wersor to wektor jednostkowy, który wskazuje kierunki osi układu współrzędnych. \n",
    "\n",
    "**Dodawanie (odejmowanie) wektorów**\n",
    "Wektory można dodawać (odejmować) algebraicznie i geometrycznie. Algebraicznie polega to na dodawaniu (odejmowaniu) od siebie kolejnych współrzędnych. Geometrycznie na zbudowaniu odpowiedniego równoległoboku (lub trójkąta) i znalezieniu wektora wypadkowego. Warto pamiętać - odjąć wektor, znaczy dodać wektor przeciwny.\n",
    "\n",
    "**Mnożenie wektorów**\n",
    "\n",
    "- iloczyn przez liczbę (skalowanie): Mnożąc wektor przez liczbę, zachowane zostają jego kierunek i zwrot, ale zmianie ulega jego długość. W wyniku dostajemy wektor wysłużony albo skrócony. Jest to skalowanie wektora.\n",
    "- iloczyn skalarny: Mnożymy dwa wektory, ale w wyniku otrzymujemy liczbę (stąd nazwa - uzyskujemy skalar). Możemy powiedzieć, że uzyskany wynik jest co do wartości równy polu prostokąta zbudowanego na długości pierwszego wektora i rzutu drugiego wektora na pierwszy. Mamy dwa równania na obliczanie wartości iloczynu skalarnego: $\\vec{a} \\cdot \\vec{b} = |\\vec{a}| |\\vec{b}| cos\\left( \\alpha \\right) = a_x b_x + a_y b_y + a_z b_z$, (gdzie $\\alpha$ jest kątem zawartym między mnożonymi wektorami). Przykładami zastosowań iloczynu skalarnego w fizyce mogą być m.in. definicja pracy czy strumienia pola magnetycznego. \n",
    "- iloczyn wektorowy: Mnożymy dwa wektory, a w wyniku otrzymujemy nowy wektor (stąd nazwa - uzyskujemy wektor). Nowy wektor jest prostopadły do płaszczyzny rozpiętej na mnożonych wektorach, a jego zwrot określa reguła śruby prawoskrętnej (inaczej prawej dłoni). Nie ma iloczynu wektorowego w przestrzeni 2D (brakuje trzeciego wymiaru, w którym otrzymany wektor byłby właśnie prostopadły do mnożonych wektorów). Długość nowego wektora jest co do wartości równa polu równoległoboku rozpiętego na mnożonych wektorach, czyli $|\\vec{c}| = |\\vec{a}| |\\vec{b}| sin \\left( \\alpha \\right)$, gdzie $\\alpha$ to kąt zawarty między mnożonymi wektorami. Wyznaczanie składowych nowego wektora opiera się na obliczeniu stosownego wyznacznika, zgodnie ze wzorem: \n",
    "$$\\begin{vmatrix}a & b\\\\\n",
    "c & d\n",
    "\\end{vmatrix}=ad-bc$$"
   ]
  },
  {
   "cell_type": "markdown",
   "metadata": {},
   "source": [
    "### 8. Podstawy rachunku różniczkowego wykorzystywanego w fizyce\n",
    "- pochodna\n",
    "- całka"
   ]
  },
  {
   "cell_type": "code",
   "execution_count": null,
   "metadata": {},
   "outputs": [],
   "source": []
  }
 ],
 "metadata": {
  "kernelspec": {
   "display_name": "Python 3",
   "language": "python",
   "name": "python3"
  },
  "language_info": {
   "codemirror_mode": {
    "name": "ipython",
    "version": 3
   },
   "file_extension": ".py",
   "mimetype": "text/x-python",
   "name": "python",
   "nbconvert_exporter": "python",
   "pygments_lexer": "ipython3",
   "version": "3.8.5"
  }
 },
 "nbformat": 4,
 "nbformat_minor": 4
}
